{
 "cells": [
  {
   "cell_type": "markdown",
   "metadata": {},
   "source": [
    "# Final Project"
   ]
  },
  {
   "cell_type": "code",
   "execution_count": 1,
   "metadata": {},
   "outputs": [],
   "source": [
    "import matplotlib.pyplot as plt\n",
    "import os\n",
    "%matplotlib inline\n",
    "%reload_ext autoreload\n",
    "%autoreload 2"
   ]
  },
  {
   "cell_type": "markdown",
   "metadata": {},
   "source": [
    "## Instructions\n",
    "\n",
    "Read the entire assignment before you start solving it\n",
    "\n",
    "### Code\n",
    "- You can write your code in an IDE like PyCharm, and then import your code to this notebook. It is easier to debug.\n",
    "> **Tip**: Split your code to many small functions, and write a test for each function, to prevent bugs and a lot of frustration \n",
    "\n",
    "### Theoretical part\n",
    "- Use a \"Markdown\" cell to write your answers (like this cell), not a code cell.\n",
    "- Write your answers in English. If you prefer to write your answers in Hebrew, attach a PDF file with the answers\n",
    "\n",
    "<a id=\"submission\"></a>\n",
    "### Submission\n",
    "The submission is in pairs. \n",
    "\n",
    "You should submit the following files in a **zip** file:\n",
    "1. The notebook file *.ipynb\n",
    "2. The notebook file downloaded as *.html\n",
    "3. A file `pairwise.py` with the code for all versus all global hueristic alignment (Part 2: 1-5). You may add any additional python files that are imported by `pairwise.py`. This file will be run using the CMD or the Terminal in the following way:\n",
    "```\n",
    "python pairwise.py [path_to_substitution_matrix] [path_to_seq_file_1] [path_to_seq_file_2] .... [path_to_seq_file_N]\n",
    "```\n",
    "For example:\n",
    "```\n",
    "python pairwise.py sub_mat.txt A.fasta B.fasta C.fasta\n",
    "```\n",
    "The example files `sub_mat.txt`, `A.fasta`, `B.fasta`, `C.fasta` are provided. Make sure that executing the above line works   \n",
    "The output of executing `pairwise.py` should be a file named `scores.txt` with all the computed pairwise scores (not distances). \n",
    "```\n",
    "[seq1_id]\\t[seq2_id]\\t[score]\\n\n",
    "[seq1_id]\\t[seq3_id]\\t[score]\\n\n",
    "....\n",
    "[seq1_id]\\t[seqN_id]\\t[score]\\n\n",
    "[seq2_id]\\t[seq3_id]\\t[score]\\n\n",
    "....\n",
    "[seqN-1_id]\\t[seqN_id]\\t[score]\\n\n",
    "```\n",
    "The order of the lines does not matter.   \n",
    "The following file is provided as an example:\n",
    "```\n",
    "B\tA\t110\n",
    "C\tA\t85\n",
    "C\tB\t200\n",
    "```"
   ]
  },
  {
   "cell_type": "markdown",
   "metadata": {},
   "source": [
    "## Grading\n",
    "\n",
    "The grade will be based on:\n",
    "- This notebook (75 pts). \n",
    "- The code in the file `pairwise.py` and the additional python files you submitted. Your code should be clean, readable, and  documented (5 pts).\n",
    "- `pairwise.py` will be run on 2 or more short DNA sequences to check how much the output scores are similar to the optimal scores, and to check if two sequences with high sequence similarity will have a higher score than two sequences with low sequence similarity (10 pts). Additional 5 points will be relative to the other students submissions. \n",
    "- `pairwise.py` will be run on 2 or more sequences of length 30,000 with different sequence similarity to measure the runtime. Points will be reduced for a runtime that is slower than 5 minutes for a pair of sequences (5 pts). Additional 5 points will be relative to the other students submissions. "
   ]
  },
  {
   "cell_type": "markdown",
   "metadata": {},
   "source": [
    "## General Description"
   ]
  },
  {
   "cell_type": "markdown",
   "metadata": {},
   "source": [
    "In this project you will get 9 complete genomes of viruses that belong to the [coronavirus](https://en.wikipedia.org/wiki/Coronavirus) group of viruses.  \n",
    "- You will compute the distances between each pair of genomes.\n",
    "- You will use these distances to construct the neighbor-joining tree\n",
    "- This tree will help you learn about their evolution"
   ]
  },
  {
   "cell_type": "markdown",
   "metadata": {},
   "source": [
    "## Dataset description"
   ]
  },
  {
   "cell_type": "markdown",
   "metadata": {},
   "source": [
    "9 complete DNA genomes (translated from RNA) of different strains of coronaviruses. \n",
    "There are 2 strains of the [SARS-CoV-2](https://en.wikipedia.org/wiki/Severe_acute_respiratory_syndrome_coronavirus_2) - the novel coronavirus that causes the coronavirus disease 2019, 3 strains of [Bat coronavirus](https://en.wikipedia.org/wiki/Bat_virome#Coronaviruses) (extracted from bats), 2 strains of [SARS](https://en.wikipedia.org/wiki/Severe_acute_respiratory_syndrome-related_coronavirus) viruses, and 2 strains of [MERS](https://en.wikipedia.org/wiki/Middle_East_respiratory_syndrome) viruses.\n",
    "\n",
    "| ID                          | Type            | Origin  |\n",
    "| ----------------------------|:---------------:| --------:|\n",
    "| NC_045512.2_SARS-CoV-2      | SARS-CoV-2      | Wuhan - China   |\n",
    "| EPI_ISL_404253_SARS-CoV-2   | SARS-CoV-2      | USA      |\n",
    "| JX993987.1_BAT              | Bat Coronavirus | Shaanxi - China     |\n",
    "| DQ648857.1_BAT              | Bat Coronavirus | Hong-Kong   |\n",
    "| EPI_ISL_402131_BAT          | Bat Coronavirus | Yunnan - China  |\n",
    "| NC_004718.3_SARS            | SARS            | Canada   |\n",
    "| DQ182595.1_SARS             | SARS            | China   |\n",
    "| JX869059.2_MERS             | MERS            | Netherlends  |\n",
    "| KT368829.1_MERS             | MERS            | Saudi Arabia |\n",
    "\n",
    "Strain NC_045512.2_SARS-CoV-2 was obtained from the first patient sequenced in Wuhan."
   ]
  },
  {
   "cell_type": "markdown",
   "metadata": {},
   "source": [
    "## Part 1\n",
    "Use the provided links, or other links, to learn about these viruses. Write a short description about each virus, what is the connection between them, and how similar/distinct they are"
   ]
  },
  {
   "cell_type": "markdown",
   "metadata": {},
   "source": [
    "**Add your answer below**"
   ]
  },
  {
   "cell_type": "markdown",
   "metadata": {},
   "source": [
    "Please view our answer in the file \"Genomes Species Summery.pdf\"."
   ]
  },
  {
   "cell_type": "markdown",
   "metadata": {},
   "source": [
    "## Part 2 - Hueristic Pairwise Global Alignment\n",
    "\n",
    "In this section, we want to compute the pairwise distances between each two genomes (a total of 36 distances).   \n",
    "As you saw in the BLAST assignment, optimal local/global alignment can take very long, especially when we align the whole genomes, and not just a pair of genes.\n",
    "\n",
    "Therefore, you will combine the FASTA and BLAST algorithms for a fast global alignment.\n",
    "\n",
    "#### A high level description of the algorithm\n",
    "Input Parameters: $k, T, X,$ Substitutions Matrix, two DNA sequences: `seq1` and `seq2`\n",
    "\n",
    "1. **Finding HSPs** - For each kmer from `seq1`, find its match in `seq2` (HSPs)\n",
    "2. **Extending HSPs to MSPs** - Extend each HSP to the left and to the right, similarily to BLAST (MSPs)\n",
    "3. **Creating a graph** - Similarily to the FASTA algorithm, create a graph with all the MSPs as nodes. Create an edge between MSP1 and MSP2 if MSP2 starts after MSP1 and if they do not overlap. Decide what will be the weight of the edge.\n",
    "4. **Finding a path in the graph** - Find a heaviest path in the graph, representing an alignment between `seq1` and `seq2`. Areas that were not covered by MSPs represent gaps or areas with a high number of substitutions.\n",
    "5. **Pairwise Score** - Compute the score of the path, which is the sum of the MSPs scores\n",
    "6. **Score to distance** - Translate the scores to distances, similar genomes will have lower distance\n",
    "7. **Build a Phylogenetic tree**"
   ]
  },
  {
   "cell_type": "markdown",
   "metadata": {},
   "source": [
    "### Implementation Details\n",
    "\n",
    "### Input Files\n",
    "- A zip file name `genomes` containing the input sequences, each in a different fasta format file:   \n",
    "`>seq_id\n",
    "sequence nucleodites...\n",
    "sequence nucleodites...\n",
    "`\n",
    "- A substitution matrix for DNA, note that there are more than 4 characters, some represent [ambiguous nucleotides](https://genomevolution.org/wiki/index.php/Ambiguous_nucleotide)"
   ]
  },
  {
   "cell_type": "markdown",
   "metadata": {},
   "source": [
    "Read all the sequence files in the folder `genomes`. For each sequence, print its length. "
   ]
  },
  {
   "cell_type": "markdown",
   "metadata": {},
   "source": [
    "**Add your answer below**"
   ]
  },
  {
   "cell_type": "code",
   "execution_count": 13,
   "metadata": {},
   "outputs": [
    {
     "name": "stdout",
     "output_type": "stream",
     "text": [
      "Genome id: DQ182595.1_SARS                Genome length: 30078\n",
      "Genome id: DQ648857.1_BAT                 Genome length: 30113\n",
      "Genome id: EPI_ISL_402131_BAT             Genome length: 30229\n",
      "Genome id: EPI_ISL_404253_SARS-CoV-2      Genome length: 30256\n",
      "Genome id: JX869059.2_MERS                Genome length: 30496\n",
      "Genome id: JX993987.1_BAT                 Genome length: 29853\n",
      "Genome id: KT368829.1_MERS                Genome length: 30495\n",
      "Genome id: NC_004718.3_SARS               Genome length: 30123\n",
      "Genome id: NC_045512.2_SARS-CoV-2         Genome length: 30277\n"
     ]
    }
   ],
   "source": [
    "GENOMES_PATH = './genomes'\n",
    "FASTA_FILE_SUFFIX = '.fasta'\n",
    "STR_PADDING_SIZE = 30\n",
    "\n",
    "def add_to_dict(genomes_dir, file_name, genome_dict):\n",
    "    with open(os.path.join(GENOMES_PATH + '/', file_name)) as f:\n",
    "            genome_id = file_name.replace(FASTA_FILE_SUFFIX, '')\n",
    "            genome_len = 0\n",
    "            for line in f.readlines()[1:]:\n",
    "                genome_len += len(line)\n",
    "            \n",
    "            genome_dict[genome_id] = (genome_len)\n",
    "\n",
    "            \n",
    "# this function creates a dict in which the keys are genome ids and the values are tuples of (index, length)\n",
    "# index is a value from 0-8 which will be used during the build of the distance matrix based on the scores file\n",
    "def create_genomes_dict(genomes_dir):\n",
    "    genome_dict = {}\n",
    "    for file_name in os.listdir(genomes_dir):\n",
    "        if file_name.endswith(FASTA_FILE_SUFFIX):\n",
    "            add_to_dict(genomes_dir, file_name, genome_dict)\n",
    "            \n",
    "    return genome_dict\n",
    "\n",
    "            \n",
    "genome_dict = create_genomes_dict(GENOMES_PATH)\n",
    "\n",
    "for seq_id, seq_length in genome_dict.items():\n",
    "    print('Genome id: {} Genome length: {}'.format(seq_id.ljust(STR_PADDING_SIZE), seq_length))"
   ]
  },
  {
   "cell_type": "markdown",
   "metadata": {},
   "source": [
    "Read the substitution matrix `sub_mat.txt` and print it below:"
   ]
  },
  {
   "cell_type": "code",
   "execution_count": 14,
   "metadata": {},
   "outputs": [
    {
     "name": "stdout",
     "output_type": "stream",
     "text": [
      "    A   T   G   C   S   W   R   Y   K   M   B   V   H   D   N   U\n",
      "\n",
      "A   5  -4  -4  -4  -4   1   1  -4  -4   1  -4  -1  -1  -1  -2  -4\n",
      "\n",
      "T  -4   5  -4  -4  -4   1  -4   1   1  -4  -1  -4  -1  -1  -2   5\n",
      "\n",
      "G  -4  -4   5  -4   1  -4   1  -4   1  -4  -1  -1  -4  -1  -2  -4\n",
      "\n",
      "C  -4  -4  -4   5   1  -4  -4   1  -4   1  -1  -1  -1  -4  -2  -4\n",
      "\n",
      "S  -4  -4   1   1  -1  -4  -2  -2  -2  -2  -1  -1  -3  -3  -1  -4\n",
      "\n",
      "W   1   1  -4  -4  -4  -1  -2  -2  -2  -2  -3  -3  -1  -1  -1   1\n",
      "\n",
      "R   1  -4   1  -4  -2  -2  -1  -4  -2  -2  -3  -1  -3  -1  -1  -4\n",
      "\n",
      "Y  -4   1  -4   1  -2  -2  -4  -1  -2  -2  -1  -3  -1  -3  -1   1\n",
      "\n",
      "K  -4   1   1  -4  -2  -2  -2  -2  -1  -4  -1  -3  -3  -1  -1   1\n",
      "\n",
      "M   1  -4  -4   1  -2  -2  -2  -2  -4  -1  -3  -1  -1  -3  -1  -4\n",
      "\n",
      "B  -4  -1  -1  -1  -1  -3  -3  -1  -1  -3  -1  -2  -2  -2  -1  -1\n",
      "\n",
      "V  -1  -4  -1  -1  -1  -3  -1  -3  -3  -1  -2  -1  -2  -2  -1  -4\n",
      "\n",
      "H  -1  -1  -4  -1  -3  -1  -3  -1  -3  -1  -2  -2  -1  -2  -1  -1\n",
      "\n",
      "D  -1  -1  -1  -4  -3  -1  -1  -3  -1  -3  -2  -2  -2  -1  -1  -1\n",
      "\n",
      "N  -2  -2  -2  -2  -1  -1  -1  -1  -1  -1  -1  -1  -1  -1  -1  -2\n",
      "\n",
      "U  -4   5  -4  -4  -4   1  -4   1   1  -4  -1  -4  -1  -1  -2   5\n"
     ]
    }
   ],
   "source": [
    "with open('sub_mat.txt') as f:\n",
    "    [print(line) for line in f]"
   ]
  },
  {
   "cell_type": "markdown",
   "metadata": {},
   "source": [
    "### 1. Finding HSPs\n",
    "For each kmer from `seq1`, find its match in `seq2` (an HSP).  \n",
    "An HSP can be an exact match (like in FASTA), or an approximate match (like in BLAST) that has a score larger than the parameter $T$. Write a function that recieves the parameters $k$ and $T$. Later decide the values of these parameters.\n",
    "\n",
    "You can use the `HSP` object below:"
   ]
  },
  {
   "cell_type": "code",
   "execution_count": 15,
   "metadata": {},
   "outputs": [],
   "source": [
    "class HSP:\n",
    "    def __init__(self, seq1_start, seq1_end, seq2_start, seq2_end, score):\n",
    "        self.seq1_start = seq1_start\n",
    "        self.seq1_end = seq1_end\n",
    "        self.seq2_start = seq2_start\n",
    "        self.seq2_end = seq2_end\n",
    "        self.score = score\n",
    "\n",
    "    def size(self):\n",
    "        return self.seq1_end - self.seq1_start\n",
    "\n",
    "    def __eq__(self, other):\n",
    "        \"\"\"equals function\"\"\"\n",
    "        if isinstance(other, self.__class__):\n",
    "            is_seq1_eq = self.seq1_start == other.seq1_start and self.seq1_end == other.seq1_end\n",
    "            is_seq2_eq = self.seq2_start == other.seq2_start and self.seq2_end == other.seq2_end\n",
    "            return is_seq1_eq and is_seq2_eq and self.score == other.score\n",
    "        return False\n",
    "\n",
    "    def __ne__(self, other):\n",
    "        \"\"\"Define a non-equality test\"\"\"\n",
    "        return not self.__eq__(other)\n",
    "\n",
    "    def __hash__(self):\n",
    "        return hash(str((self.seq1_start, self.seq1_end, self.seq2_start, self.seq2_end, self.score)))\n",
    "\n",
    "    def __str__(self):\n",
    "        return (\n",
    "                f'Score: {self.score}\\n'\n",
    "                f'Seq1: [{self.seq1_start}, {self.seq1_end}]\\n'\n",
    "                f'Seq2: [{self.seq2_start}, {self.seq2_end}]\\n'\n",
    "                )\n",
    "\n",
    "    def __repr__(self):\n",
    "        return self.__str__()"
   ]
  },
  {
   "cell_type": "markdown",
   "metadata": {},
   "source": [
    "### 2. Extending HSPs to MSPs\n",
    "The extension of an HSP is very heavy computationally. A simple implementation can run more than an hour. Perticularily if the sequences are very similar, then almost every HSP will be extended, and each extension will probably have a large size (the $X$ parameter can't help with that). \n",
    "\n",
    "We want to reduce the number of HSPs to be extended to MSPS. Therefore, you can implement the following methods:\n",
    "\n",
    "- For each diagonal, save the last MSP found in this diagonal. If a new HSP is contained in the last MSP, don't extend it.    A diagonal is represented by $(i-j)$, where $i$ is the start index of an MSP/HSP in `seq1` and $j$ is the start index of an MSP/HSP in `seq2`. For example, the diagonal 0 is the main diagonal, the diagonal -1 is right above the main diagonal, and so on.\n",
    "- Suppose you found an HSP that starts in index $i$ of `seq1` and index $j$ of `seq2`. If the absolute value of $i-j$ is very high, then this HSP is not likely part of the global alignment, and we can dispose it. You should decide which value of  $i-j$ is considered too high.\n",
    "\n",
    "> You are welcome to use any other hueristics you can think about to reduce the runtime. But make sure that your results are still accurate."
   ]
  },
  {
   "cell_type": "markdown",
   "metadata": {},
   "source": [
    "### 3+4. Creating the graph and finding a path\n",
    "- If you use the HSP object provided above, you can use each HSP directly as a graph node.\n",
    "- Think about the weight that will be given to each edge.\n",
    "\n",
    "#### Technical details:\n",
    "- Use the `networkx` module for creating a [directed graph](https://networkx.github.io/documentation/stable/reference/classes/digraph.html?highlight=directed). Go over the documentation to learn how to add a weight to each edge.\n",
    "- `networkx` has a [method](https://networkx.github.io/documentation/stable/reference/algorithms/generated/networkx.algorithms.dag.dag_longest_path.html) for finding the heaviest path in a DAG, you should use it\n",
    "- Think what happens if there is an MSP that covers the entire genome"
   ]
  },
  {
   "cell_type": "markdown",
   "metadata": {},
   "source": [
    "### 5. Pairwise Score\n",
    "After finding the path, if the path nodes are HSP objects, sum their scores, this will be the total score of the alignment."
   ]
  },
  {
   "cell_type": "markdown",
   "metadata": {},
   "source": [
    "**What are the scores you should you expect?**\n",
    "\n",
    "For reference, we can look at the optimal global alignment scores. We can use an online tool [Stretcher](https://www.ebi.ac.uk/Tools/psa/emboss_stretcher/) for global alignment (make sure you choose DNA).\n",
    "\n",
    "For example, aligning the two SARS-CoV-2 strains: EPI_ISL_404253 and NC_045512.2 gives us an identity of 99.9%, 0.1% gaps, and a score of 168,141. Because our algorithm is hueristic, we will not be able to get such a high score, but the score should be high (130,000+).  \n",
    "\n",
    "Write below the identity 0.1% gaps, and score of the optimal global alignment (using [Stretcher](https://www.ebi.ac.uk/Tools/psa/emboss_stretcher/)) of the following sequences:\n",
    "- JX993987.1_BAT versus KT368829.1_MERS\n",
    "- DQ182595.1_SARS, EPI_ISL_404253_SARS-CoV-2"
   ]
  },
  {
   "cell_type": "markdown",
   "metadata": {},
   "source": [
    "\n",
    "**JX993987.1_BAT versus KT368829.1_MERS:**\n",
    "\n",
    "    Identity:    17036/31102 (54.8%)    \n",
    "    Gaps:        2602/31102  (8.4%)    \n",
    "    Score:       17876\n",
    "\n",
    "\n",
    "**DQ182595.1_SARS versus EPI_ISL_404253_SARS-CoV-2:**\n",
    "\n",
    "    Identity:    23678/29945 (79.1%)    \n",
    "    Gaps:        302/29945   (1.0%)    \n",
    "    Score:       127943"
   ]
  },
  {
   "cell_type": "markdown",
   "metadata": {},
   "source": [
    "Run your algorithm to compute the scores of all sequences versus all other sequences. \n",
    "- Print the runtime for each pair of sequences\n",
    "- Print the number of HSPs that were extented to MSPs, for each pair of sequences\n",
    "- Print the resulting scoring matrix.\n",
    "> It is expected that the running time for a pair of sequences will take less than a minute"
   ]
  },
  {
   "cell_type": "markdown",
   "metadata": {},
   "source": [
    "**Add your answer below**"
   ]
  },
  {
   "cell_type": "markdown",
   "metadata": {},
   "source": [
    "In our implementation, a given HSP was extended to MSP only in case there isn`t already exist an MSP that contains it.\n",
    "\n",
    "The number of MSPs and HSPs for each pair of sequences, as well as total run time are printed to the file \"additional_data_precomputed.txt\".\n",
    "\n",
    "The resulting scores can be view in the file \"scores_genomes_precomputed.txt\".\n",
    "\n",
    "Two more copies named \"additional_data.txt\" and \"scores_genomes.txt\" are created by our program and should be identical to the files mentioned above, and the philogenetic tree is built based on the file \"scores_genomes.txt\" (though it can be easily be changed)."
   ]
  },
  {
   "cell_type": "markdown",
   "metadata": {},
   "source": [
    "> The code you wrote for pairwise score computation should be submitted in a file `pairwise.py`. See details in the [Submission](#submission) section"
   ]
  },
  {
   "cell_type": "markdown",
   "metadata": {},
   "source": [
    "### 6. Score to distance\n",
    "To build a phylogenetic tree, we need the distances instead of scores.\n",
    "The distance between `seq1` and `seq2` is min_length(seq1, seq2)*MATCH_SCORE - score(seq1, seq2)"
   ]
  },
  {
   "cell_type": "markdown",
   "metadata": {},
   "source": [
    "Convert the scores you computed to distances, and print the distance matrix below:"
   ]
  },
  {
   "cell_type": "markdown",
   "metadata": {},
   "source": [
    "**Add your answer below**"
   ]
  },
  {
   "cell_type": "code",
   "execution_count": 19,
   "metadata": {},
   "outputs": [],
   "source": [
    "import numpy as np\n",
    "import itertools\n",
    "import math\n",
    "\n",
    "MATCH_SCORE = 5\n",
    "NUM_OF_SEQUENCES = 9\n",
    "\n",
    "\n",
    "# helper function that returns the index of sequence in the genome_dict\n",
    "def key_to_index(key):\n",
    "    return list(genome_dict.keys()).index(key)\n",
    "\n",
    "\n",
    "# helper function that returns the length of sequence by its index in the genome_dict\n",
    "def index_to_length(index):\n",
    "    return list(genome_dict.values())[index]\n",
    "\n",
    "\n",
    "# this function parses the file 'scores.txt' generated earlier to a lower traingular matrix of scores\n",
    "# in the cell [i,j] (i<j) the score of the alignment of seqi and seqj \n",
    "def parse_scores(size, scores_file_name):\n",
    "    \n",
    "    rows_sizes = [row_size + 1 for row_size in range(size)]\n",
    "    scores_array = [[0] * row_size for row_size in rows_sizes]\n",
    "\n",
    "    with open(scores_file_name) as fp:\n",
    "        for line in fp:\n",
    "            line_args = line.strip().split('\\t')\n",
    "            seq1_index = min(key_to_index(line_args[0]), key_to_index(line_args[1]))\n",
    "            seq2_index = max(key_to_index(line_args[0]), key_to_index(line_args[1]))\n",
    "            score = int(line_args[2])\n",
    "            \n",
    "            scores_array[seq2_index][seq1_index] = score\n",
    "            \n",
    "    return scores_array\n",
    "\n",
    "\n",
    "# a helper function to calculate the distance between 2 sequences\n",
    "def calc_distance(i, j, scores_array, genome_dict):\n",
    "    \n",
    "    min_length = min(index_to_length(i), index_to_length(j))\n",
    "    distance = MATCH_SCORE * min_length - scores_array[i][j]\n",
    "    return distance\n",
    "    \n",
    "    \n",
    "# this function creates the distance matrix based on the scores array\n",
    "def calc_distance_matrix(scores_array, genome_dict):\n",
    "    \n",
    "    for i in range (len(scores_array)):\n",
    "        for j in range(i):\n",
    "            scores_array[i][j] = calc_distance(i, j, scores_array, genome_dict)\n",
    "    \n",
    "    return scores_array\n",
    "\n",
    "def scores_to_distance_matrix(scores_file):\n",
    "    \n",
    "    size_of_matrix = NUM_OF_SEQUENCES\n",
    "    scores_array = parse_scores(size_of_matrix, 'scores_genomes.txt')\n",
    "    distance_matrix = calc_distance_matrix(scores_array, genome_dict)\n",
    "    \n",
    "    return distance_matrix"
   ]
  },
  {
   "cell_type": "markdown",
   "metadata": {},
   "source": [
    "### 7. Build a Phylogenetic tree\n",
    "Using a distance matrix as input, you will use the neighbor-joining algorithm to construct a tree\n",
    "\n",
    "Use the following code to create a NJ tree:"
   ]
  },
  {
   "cell_type": "code",
   "execution_count": 20,
   "metadata": {},
   "outputs": [
    {
     "name": "stdout",
     "output_type": "stream",
     "text": [
      "A\t0\n",
      "B\t5\t0\n",
      "C\t6\t9\t0\n",
      "D\t3\t6\t5\t0\n",
      "\tA\tB\tC\tD\n"
     ]
    },
    {
     "data": {
      "image/png": "[encoded data removed]",
      "text/plain": [
       "<Figure size 1200x500 with 1 Axes>"
      ]
     },
     "metadata": {
      "needs_background": "light"
     },
     "output_type": "display_data"
    }
   ],
   "source": [
    "from Bio import Phylo\n",
    "from Bio.Phylo.TreeConstruction import DistanceTreeConstructor\n",
    "from Bio.Phylo.TreeConstruction import DistanceMatrix\n",
    "\n",
    "\n",
    "#You should create a lower traingular matrix\n",
    "mat = [[0],\n",
    "       [5, 0],\n",
    "       [6, 9, 0],\n",
    "       [3, 6, 5, 0]]\n",
    "\n",
    "dm = DistanceMatrix(names=['A', 'B', 'C', 'D'], matrix=mat)\n",
    "\n",
    "print(dm)\n",
    "\n",
    "constructor = DistanceTreeConstructor()\n",
    "\n",
    "tree = constructor.nj(dm)\n",
    "\n",
    "tree.root_at_midpoint()\n",
    "\n",
    "fig = plt.figure(figsize=(12, 5), dpi=100)\n",
    "axes = fig.add_subplot(1, 1, 1)\n",
    "Phylo.draw(tree, axes=axes)"
   ]
  },
  {
   "cell_type": "markdown",
   "metadata": {},
   "source": [
    "Create a phylogenetic tree from the distance matrix that resulted from your pairwise alignments of the coronavirus strains."
   ]
  },
  {
   "cell_type": "markdown",
   "metadata": {},
   "source": [
    "**Add your answer below**"
   ]
  },
  {
   "cell_type": "code",
   "execution_count": 22,
   "metadata": {},
   "outputs": [
    {
     "data": {
      "image/png": "[encoded data removed]",
      "text/plain": [
       "<Figure size 1400x500 with 1 Axes>"
      ]
     },
     "metadata": {
      "needs_background": "light"
     },
     "output_type": "display_data"
    },
    {
     "name": "stdout",
     "output_type": "stream",
     "text": [
      "Tree(rooted=True)\n",
      "    Clade(branch_length=0)\n",
      "        Clade(branch_length=35254.65625, name='Inner7')\n",
      "            Clade(branch_length=5219.8125, name='Inner5')\n",
      "                Clade(branch_length=12543.624999999993, name='Inner4')\n",
      "                    Clade(branch_length=15591.5625, name='DQ648857.1_BAT')\n",
      "                    Clade(branch_length=13048.4375, name='JX993987.1_BAT')\n",
      "                Clade(branch_length=23668.125000000007, name='Inner3')\n",
      "                    Clade(branch_length=946.5999999999985, name='DQ182595.1_SARS')\n",
      "                    Clade(branch_length=1003.4000000000015, name='NC_004718.3_SARS')\n",
      "            Clade(branch_length=2912.9375, name='Inner6')\n",
      "                Clade(branch_length=28227.8125, name='EPI_ISL_402131_BAT')\n",
      "                Clade(branch_length=27481.6875, name='Inner2')\n",
      "                    Clade(branch_length=951.8333333333358, name='EPI_ISL_404253_SARS-CoV-2')\n",
      "                    Clade(branch_length=950.1666666666642, name='NC_045512.2_SARS-CoV-2')\n",
      "        Clade(branch_length=66955.65625, name='Inner1')\n",
      "            Clade(branch_length=1567.0, name='JX869059.2_MERS')\n",
      "            Clade(branch_length=1654.0, name='KT368829.1_MERS')\n"
     ]
    }
   ],
   "source": [
    "distance_matrix = scores_to_distance_matrix('scores_genomes.txt')\n",
    "genomes_dm = DistanceMatrix(names=[key for key in genome_dict.keys()], matrix = distance_matrix)\n",
    "constructor = DistanceTreeConstructor()\n",
    "genomes_tree = constructor.nj(genomes_dm)\n",
    "genomes_tree.root_at_midpoint()\n",
    "fig = plt.figure(figsize=(14, 5), dpi=100)\n",
    "axes = fig.add_subplot(1, 1, 1)\n",
    "Phylo.draw(genomes_tree, axes=axes)\n",
    "\n",
    "# The following function prints the brenches` length, thus it helps to determine the distance between two leafes.\n",
    "print(genomes_tree)\n"
   ]
  },
  {
   "cell_type": "markdown",
   "metadata": {},
   "source": [
    "Look at the tree. For each strain (leaf), write the strain that has the minimal distance to it in the tree, and the strain that has the maximal distance to it in the tree. Does it make sense from what you know about the different strains?"
   ]
  },
  {
   "cell_type": "markdown",
   "metadata": {},
   "source": [
    "**Add your answer below**"
   ]
  },
  {
   "cell_type": "markdown",
   "metadata": {},
   "source": [
    "Please view our answer in the file \"Distance Tree Analysis.pdf\""
   ]
  },
  {
   "cell_type": "markdown",
   "metadata": {},
   "source": [
    "What might be the origin of SARS-CoV-2, according to the tree? Explain"
   ]
  },
  {
   "cell_type": "markdown",
   "metadata": {},
   "source": [
    "**Add your answer below**"
   ]
  },
  {
   "cell_type": "markdown",
   "metadata": {},
   "source": [
    "Please view our answer in the file \"Distance Tree Analysis.pdf\""
   ]
  },
  {
   "cell_type": "markdown",
   "metadata": {},
   "source": [
    "If we wanted to apply the Fitch algorithm for these strains, for a specific topology, what would we have to do instead of the pairwise global alignment?"
   ]
  },
  {
   "cell_type": "markdown",
   "metadata": {},
   "source": [
    "**Add your answer below**"
   ]
  },
  {
   "cell_type": "markdown",
   "metadata": {},
   "source": [
    "Instead of pairwise global alignment, we would have created mutual alignment of all 9 strains. \n",
    "Then we would have iterated through each position of the alignment individually, as we assume the different positions are not depended on each other. \n",
    "In each iteration we would go from bottom to top and then from top to bottom to determine which character is more likely to appear in each and every inner node of the tree.\n",
    "When going from bottom to top - the father of two nodes with the same character will \"inherit\" their character, otherwise it will hold a group of all characters his nodes hold.\n",
    "When going from top to bottom - for each node that holds a group of characters only one will be chosen, preferable identical character to the character the father of the same node. \n",
    "It will allow us to compute the hamming distance of each position. The total hamming distance would be the sum of hamming distance of each position. \n",
    "**Notes:**\n",
    "- Iteration of positions in which all characters are identical may be skipped\n",
    "- Deletions in the alignment can be ignored"
   ]
  }
 ],
 "metadata": {
  "kernelspec": {
   "display_name": "Python 3",
   "language": "python",
   "name": "python3"
  },
  "language_info": {
   "codemirror_mode": {
    "name": "ipython",
    "version": 3
   },
   "file_extension": ".py",
   "mimetype": "text/x-python",
   "name": "python",
   "nbconvert_exporter": "python",
   "pygments_lexer": "ipython3",
   "version": "3.7.6"
  }
 },
 "nbformat": 4,
 "nbformat_minor": 4
}
